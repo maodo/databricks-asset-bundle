{
 "cells": [
  {
   "cell_type": "code",
   "execution_count": 0,
   "metadata": {
    "application/vnd.databricks.v1+cell": {
     "cellMetadata": {},
     "inputWidgets": {},
     "nuid": "349a64c4-ff58-440c-ac23-88bdd6c40a8d",
     "showTitle": false,
     "tableResultSettingsMap": {},
     "title": ""
    }
   },
   "outputs": [],
   "source": [
    "my_catalog = dbutils.widgets.get('catalog_name')\n",
    "target = dbutils.widgets.get('display_target')\n",
    "\n",
    "set_default_catalog = spark.sql(f'USE CATALOG {my_catalog}')\n",
    "\n",
    "print(f'Using the {my_catalog} catalog.')\n",
    "print(f'Deploying as the {target} pipeline.')"
   ]
  },
  {
   "cell_type": "code",
   "execution_count": 0,
   "metadata": {
    "application/vnd.databricks.v1+cell": {
     "cellMetadata": {},
     "inputWidgets": {},
     "nuid": "208c1e59-1051-4330-bdbe-f24871635467",
     "showTitle": false,
     "tableResultSettingsMap": {},
     "title": ""
    }
   },
   "outputs": [],
   "source": [
    "spark.sql(f'''\n",
    "CREATE OR REPLACE TABLE {my_catalog}.default.health_silver_demo_03 AS\n",
    "SELECT * EXCEPT (file_name, file_modification_time, load_date)\n",
    "FROM {my_catalog}.default.health_bronze_demo_03\n",
    "''')"
   ]
  }
 ],
 "metadata": {
  "application/vnd.databricks.v1+notebook": {
   "computePreferences": null,
   "dashboards": [],
   "environmentMetadata": null,
   "inputWidgetPreferences": null,
   "language": "python",
   "notebookMetadata": {
    "pythonIndentUnit": 4
   },
   "notebookName": "create_silver_table",
   "widgets": {}
  },
  "language_info": {
   "name": "python"
  }
 },
 "nbformat": 4,
 "nbformat_minor": 0
}
