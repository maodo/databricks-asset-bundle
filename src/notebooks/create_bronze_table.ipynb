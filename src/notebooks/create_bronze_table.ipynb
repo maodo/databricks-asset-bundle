{
 "cells": [
  {
   "cell_type": "code",
   "execution_count": 0,
   "metadata": {
    "application/vnd.databricks.v1+cell": {
     "cellMetadata": {},
     "inputWidgets": {},
     "nuid": "dbf990cb-fbf1-484e-8a1f-ebf9530c1b58",
     "showTitle": false,
     "tableResultSettingsMap": {},
     "title": ""
    }
   },
   "outputs": [],
   "source": [
    "my_catalog = dbutils.widgets.get('catalog_name')\n",
    "target = dbutils.widgets.get('display_target')\n",
    "\n",
    "set_default_catalog = spark.sql(f'USE CATALOG {my_catalog}')\n",
    "\n",
    "print(f'Using the {my_catalog} catalog.')\n",
    "print(f'Deploying as the {target} pipeline.')"
   ]
  },
  {
   "cell_type": "code",
   "execution_count": 0,
   "metadata": {
    "application/vnd.databricks.v1+cell": {
     "cellMetadata": {},
     "inputWidgets": {},
     "nuid": "86d11766-eb75-4563-bc06-3b50e77c79ed",
     "showTitle": false,
     "tableResultSettingsMap": {},
     "title": ""
    }
   },
   "outputs": [],
   "source": [
    "spark.sql(f'''\n",
    "CREATE OR REPLACE TABLE {my_catalog}.default.health_bronze_demo_03 AS\n",
    "SELECT \n",
    "  *,\n",
    "  _metadata.file_name as file_name,\n",
    "  _metadata.file_modification_time as file_modification_time,\n",
    "  current_timestamp() as load_date\n",
    "FROM read_files(\n",
    "  '/Volumes/{my_catalog}/default/health/',\n",
    "  format => 'csv',\n",
    "  header => true\n",
    ")\n",
    "''')"
   ]
  }
 ],
 "metadata": {
  "application/vnd.databricks.v1+notebook": {
   "computePreferences": null,
   "dashboards": [],
   "environmentMetadata": null,
   "inputWidgetPreferences": null,
   "language": "python",
   "notebookMetadata": {
    "pythonIndentUnit": 4
   },
   "notebookName": "create_bronze_table",
   "widgets": {}
  },
  "language_info": {
   "name": "python"
  }
 },
 "nbformat": 4,
 "nbformat_minor": 0
}
