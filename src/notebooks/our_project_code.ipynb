{
 "cells": [
  {
   "cell_type": "code",
   "execution_count": 0,
   "metadata": {
    "application/vnd.databricks.v1+cell": {
     "cellMetadata": {},
     "inputWidgets": {},
     "nuid": "8e1e1c6a-a316-493b-9406-626f2e24566f",
     "showTitle": false,
     "tableResultSettingsMap": {},
     "title": ""
    }
   },
   "outputs": [],
   "source": [
    "%python\n",
    "my_catalog = dbutils.widgets.get('catalog_name')\n",
    "target = dbutils.widgets.get('display_target')\n",
    "\n",
    "set_default_catalog = spark.sql(f'USE CATALOG {my_catalog}')\n",
    "\n",
    "print(f'Using the {my_catalog} catalog.')\n",
    "print(f'Deploying as the {target} pipeline.')"
   ]
  },
  {
   "cell_type": "code",
   "execution_count": 0,
   "metadata": {
    "application/vnd.databricks.v1+cell": {
     "cellMetadata": {},
     "inputWidgets": {},
     "nuid": "7bdd7842-2e4a-4b76-a70b-929f8f1ad53d",
     "showTitle": false,
     "tableResultSettingsMap": {},
     "title": ""
    }
   },
   "outputs": [],
   "source": [
    "DROP TABLE IF EXISTS nyctaxi_bronze;\n",
    "\n",
    "CREATE TABLE nyctaxi_bronze AS\n",
    "SELECT \n",
    "  *,\n",
    "  _metadata.file_modification_time as file_modification_time,\n",
    "  _metadata.file_name as file_name\n",
    "FROM nyctaxi_raw"
   ]
  },
  {
   "cell_type": "code",
   "execution_count": 0,
   "metadata": {
    "application/vnd.databricks.v1+cell": {
     "cellMetadata": {},
     "inputWidgets": {},
     "nuid": "e4d0a930-cbdf-40e7-9c4c-bfd3b5eb462b",
     "showTitle": false,
     "tableResultSettingsMap": {},
     "title": ""
    }
   },
   "outputs": [],
   "source": [
    "SELECT * \n",
    "FROM nyctaxi_bronze \n",
    "LIMIT 10;"
   ]
  },
  {
   "cell_type": "code",
   "execution_count": 0,
   "metadata": {
    "application/vnd.databricks.v1+cell": {
     "cellMetadata": {},
     "inputWidgets": {},
     "nuid": "f0270856-d9a2-411d-9eee-4a388bc4f73f",
     "showTitle": false,
     "tableResultSettingsMap": {},
     "title": ""
    }
   },
   "outputs": [],
   "source": [
    "DROP TABLE IF EXISTS nyctaxi_silver;\n",
    "\n",
    "CREATE TABLE nyctaxi_silver AS\n",
    "SELECT \n",
    "  * EXCEPT (file_modification_time, file_name),\n",
    "  round(try_divide(fare_amount,trip_distance),2) AS price_per_mile\n",
    "FROM nyctaxi_bronze;"
   ]
  },
  {
   "cell_type": "code",
   "execution_count": 0,
   "metadata": {
    "application/vnd.databricks.v1+cell": {
     "cellMetadata": {},
     "inputWidgets": {},
     "nuid": "e76b24e9-69fc-4e8a-8af9-6ff5b9fde71d",
     "showTitle": false,
     "tableResultSettingsMap": {},
     "title": ""
    }
   },
   "outputs": [],
   "source": [
    "SELECT * \n",
    "FROM nyctaxi_silver;"
   ]
  }
 ],
 "metadata": {
  "application/vnd.databricks.v1+notebook": {
   "computePreferences": null,
   "dashboards": [],
   "environmentMetadata": null,
   "inputWidgetPreferences": null,
   "language": "sql",
   "notebookMetadata": {
    "pythonIndentUnit": 4
   },
   "notebookName": "our_project_code",
   "widgets": {}
  },
  "language_info": {
   "name": "sql"
  }
 },
 "nbformat": 4,
 "nbformat_minor": 0
}